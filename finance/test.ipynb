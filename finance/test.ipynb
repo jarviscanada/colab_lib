{
  "nbformat": 4,
  "nbformat_minor": 0,
  "metadata": {
    "colab": {
      "name": "test.ipynb",
      "provenance": [],
      "collapsed_sections": [],
      "authorship_tag": "ABX9TyPVG0gNj9TdzmQH4lpMDsOM",
      "include_colab_link": true
    },
    "kernelspec": {
      "name": "python3",
      "display_name": "Python 3"
    },
    "language_info": {
      "name": "python"
    }
  },
  "cells": [
    {
      "cell_type": "markdown",
      "metadata": {
        "id": "view-in-github",
        "colab_type": "text"
      },
      "source": [
        "<a href=\"https://colab.research.google.com/github/jarviscanada/colab_lib/blob/main/finance/test.ipynb\" target=\"_parent\"><img src=\"https://colab.research.google.com/assets/colab-badge.svg\" alt=\"Open In Colab\"/></a>"
      ]
    },
    {
      "cell_type": "code",
      "metadata": {
        "id": "-yp6laQc1PRt"
      },
      "source": [
        "import pandas as pd\n",
        "from google.colab import data_table\n",
        "import glob\n",
        "from datetime import timedelta\n",
        "from datetime import datetime\n",
        "from pandas.tseries.offsets import MonthEnd\n",
        "from google.colab import auth\n",
        "import gspread\n",
        "from oauth2client.client import GoogleCredentials\n",
        "import numpy as np\n",
        "from gspread_dataframe import get_as_dataframe, set_with_dataframe\n",
        "import pytz\n",
        "from pytz import timezone\n",
        "\n",
        "#convert `$` to float\n",
        "def currency2float(df, fields):\n",
        "  for field in fields:\n",
        "    if (df[field].dtype != np.float64):\n",
        "      df[field] = df[field].str.replace(',', '').str.replace('$', '')\n",
        "      df[field] = df[field].astype('float')\n",
        "\n",
        "\n",
        "def convertPercentage2float(df, fields):\n",
        "  for field in fields:\n",
        "    if (df[field].dtype != np.float64):\n",
        "      df[field] = df[field].str.replace(',', '').str.replace('%', '')\n",
        "      df[field] = df[field].astype('float') / 100\n",
        "\n",
        "def ws2df_currency(sheet, ws_str, dtype_map, currency_fields):\n",
        "  df = ws2df(sheet, ws_str, dtype_map)\n",
        "  currency2float(df, currency_fields)\n",
        "  return df\n",
        "\n",
        "\n",
        "def ws2df(sheet, ws_str, dtype_map):\n",
        "  ws = sheet.worksheet(ws_str)\n",
        "  df = (\n",
        "      pd.DataFrame\n",
        "      .from_records(ws.get_all_values()[1:], columns=ws.get_all_values()[0])\n",
        "      ).replace(r'^\\s*$', np.nan, regex=True).dropna(thresh=1)\n",
        "  return df.astype(dtype_map)\n",
        "\n",
        "\n",
        "def df2ws(sheet, ws_name, df, is_new_ws=False, include_index=False, resize=True):\n",
        "  try:\n",
        "    ws = sheet.worksheet(ws_name)\n",
        "  except:\n",
        "    ws = sheet.add_worksheet(ws_name, 1, 1, index=None)\n",
        "  ws.clear()\n",
        "  set_with_dataframe(ws, df, include_index=include_index, resize=resize)\n",
        "\n",
        "def new_ws(sheet, ws_name):\n",
        "  ws = sheet.add_worksheet(ws_name, 1, 1, index=None)\n",
        "\n",
        "#logger\n",
        "class LEVELS:\n",
        "  INFO = \"INFO\"\n",
        "  WARN = \"WARN\"\n",
        "  ERROR = \"ERROR\"\n",
        "\n",
        "def writeLog(level: LEVELS, ws_name, message, records):\n",
        "  sh = main_sheet\n",
        "  ws = \"Log\"\n",
        "  eastern = timezone('US/Eastern')\n",
        "  ts = str(datetime.now(eastern))\n",
        "\n",
        "  log_header = [\"timestamp\", \"level\", \"worksheet_name\", \"message\", \"record\"]\n",
        "\n",
        "  record_df = pd.DataFrame()\n",
        "  \n",
        "  for record in records:\n",
        "    record_csv = \",\".join([str(r) for r in record])\n",
        "    record_df = record_df.append(pd.DataFrame([[ts, level, ws_name, message, record_csv]], columns=log_header))\n",
        "\n",
        "  log_df = ws2df(sh, ws, {})\n",
        "  log_df = log_df.append(record_df)\n",
        "  df2ws(main_sheet, ws, log_df)"
      ],
      "execution_count": null,
      "outputs": []
    }
  ]
}